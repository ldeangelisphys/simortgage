{
 "cells": [
  {
   "cell_type": "code",
   "execution_count": 129,
   "id": "41f18dc4",
   "metadata": {},
   "outputs": [],
   "source": [
    "import numpy as np\n",
    "import matplotlib.pyplot as plt\n",
    "import pandas as pd"
   ]
  },
  {
   "cell_type": "code",
   "execution_count": 147,
   "id": "a4c0aaa3",
   "metadata": {},
   "outputs": [],
   "source": [
    "capital = 60000\n",
    "years = 30\n",
    "n = years*12\n",
    "ir = 0.023\n",
    "mir = ir/12"
   ]
  },
  {
   "cell_type": "markdown",
   "id": "46d4de66",
   "metadata": {},
   "source": [
    "### French style "
   ]
  },
  {
   "cell_type": "code",
   "execution_count": 148,
   "id": "0f132b9a",
   "metadata": {},
   "outputs": [],
   "source": [
    "M = {'FR':{},'IT':{}}\n",
    "k = 'FR'"
   ]
  },
  {
   "cell_type": "code",
   "execution_count": 149,
   "id": "325f51a7",
   "metadata": {},
   "outputs": [],
   "source": [
    "r = capital*mir/(1- (1/(1+mir)**n))\n",
    "M[k]['R'] = np.ones(n)*r\n",
    "M[k]['C'],M[k]['P'],M[k]['I'] = [],[],[]\n",
    "left = capital\n",
    "for i in range(n):    \n",
    "    interest = left*mir\n",
    "    payment  = r - interest\n",
    "    left = left - payment\n",
    "    \n",
    "    M[k]['P'].append(payment)\n",
    "    M[k]['I'].append(interest)\n",
    "    M[k]['C'].append(left)\n",
    "    \n",
    "M[k]['P'] = np.array(M[k]['P'])\n",
    "M[k]['I'] = np.array(M[k]['I'])\n",
    "M[k]['C'] = np.array(M[k]['C'])"
   ]
  },
  {
   "cell_type": "markdown",
   "id": "02d38ce5",
   "metadata": {},
   "source": [
    "### Italian Style"
   ]
  },
  {
   "cell_type": "code",
   "execution_count": 150,
   "id": "57b9ccb5",
   "metadata": {},
   "outputs": [],
   "source": [
    "k = 'IT'"
   ]
  },
  {
   "cell_type": "code",
   "execution_count": 151,
   "id": "4f7f1b58",
   "metadata": {},
   "outputs": [],
   "source": [
    "p = capital / n\n",
    "M[k]['P'] = np.ones(n)*p\n",
    "M[k]['C'],M[k]['R'],M[k]['I'] = [],[],[]\n",
    "left = capital\n",
    "for i in range(n):    \n",
    "    interest = left*mir\n",
    "    left = left - p\n",
    "    \n",
    "    M[k]['R'].append(p + interest)\n",
    "    M[k]['I'].append(interest)\n",
    "    M[k]['C'].append(left)\n",
    "    \n",
    "M[k]['R'] = np.array(M[k]['R'])\n",
    "M[k]['I'] = np.array(M[k]['I'])\n",
    "M[k]['C'] = np.array(M[k]['C'])"
   ]
  },
  {
   "cell_type": "code",
   "execution_count": 152,
   "id": "f24f948e",
   "metadata": {},
   "outputs": [
    {
     "data": {
      "image/png": "[encoded data removed]",
      "text/plain": [
       "<Figure size 720x288 with 2 Axes>"
      ]
     },
     "metadata": {
      "needs_background": "light"
     },
     "output_type": "display_data"
    }
   ],
   "source": [
    "fig,ax = plt.subplots(ncols=2,figsize=(10,4),sharey=True)\n",
    "\n",
    "for ik,k in enumerate(['FR','IT']):\n",
    "    ax[ik].fill_between(np.arange(n),M[k]['P'],M[k]['P']+M[k]['I'],label = 'interest')\n",
    "    ax[ik].fill_between(np.arange(n),M[k]['P'],label = 'payments')\n",
    "    ax[ik].legend()\n",
    "    total_cost = np.sum(M[k]['R'])\n",
    "    ax[ik].set_title(f'{k} [total = {total_cost:.2f}]')"
   ]
  },
  {
   "cell_type": "code",
   "execution_count": 153,
   "id": "81b7d797",
   "metadata": {},
   "outputs": [
    {
     "data": {
      "text/plain": [
       "230.88077434681492"
      ]
     },
     "execution_count": 153,
     "metadata": {},
     "output_type": "execute_result"
    }
   ],
   "source": [
    "r"
   ]
  },
  {
   "cell_type": "code",
   "execution_count": 156,
   "id": "4b1e0b8c",
   "metadata": {},
   "outputs": [
    {
     "data": {
      "text/plain": [
       "Text(159, 233.18958209028307, '159 months (13.25 years)')"
      ]
     },
     "execution_count": 156,
     "metadata": {},
     "output_type": "execute_result"
    },
    {
     "data": {
      "image/png": "[encoded data removed]",
      "text/plain": [
       "<Figure size 432x288 with 1 Axes>"
      ]
     },
     "metadata": {
      "needs_background": "light"
     },
     "output_type": "display_data"
    }
   ],
   "source": [
    "plt.plot(M['FR']['R'])\n",
    "plt.plot(M['IT']['R'])\n",
    "switch = np.where(M['IT']['R'] < M['FR']['R'])[0][0]\n",
    "plt.annotate(f'{switch} months ({switch/12} years)',(switch,1.01*r))"
   ]
  },
  {
   "cell_type": "code",
   "execution_count": null,
   "id": "fbbb2d72",
   "metadata": {},
   "outputs": [],
   "source": []
  },
  {
   "cell_type": "code",
   "execution_count": null,
   "id": "e1b6b280",
   "metadata": {},
   "outputs": [],
   "source": []
  },
  {
   "cell_type": "code",
   "execution_count": null,
   "id": "a9acdc86",
   "metadata": {},
   "outputs": [],
   "source": []
  },
  {
   "cell_type": "code",
   "execution_count": null,
   "id": "128fcfe5",
   "metadata": {},
   "outputs": [],
   "source": []
  },
  {
   "cell_type": "code",
   "execution_count": null,
   "id": "d3b3be93",
   "metadata": {},
   "outputs": [],
   "source": []
  },
  {
   "cell_type": "code",
   "execution_count": null,
   "id": "850c5769",
   "metadata": {},
   "outputs": [],
   "source": []
  },
  {
   "cell_type": "code",
   "execution_count": null,
   "id": "ed6571d2",
   "metadata": {},
   "outputs": [],
   "source": []
  },
  {
   "cell_type": "code",
   "execution_count": null,
   "id": "d2d2df70",
   "metadata": {},
   "outputs": [],
   "source": []
  },
  {
   "cell_type": "code",
   "execution_count": null,
   "id": "f238ce31",
   "metadata": {},
   "outputs": [],
   "source": []
  },
  {
   "cell_type": "code",
   "execution_count": null,
   "id": "93e4237a",
   "metadata": {},
   "outputs": [],
   "source": []
  },
  {
   "cell_type": "code",
   "execution_count": null,
   "id": "eb43ce23",
   "metadata": {},
   "outputs": [],
   "source": []
  },
  {
   "cell_type": "code",
   "execution_count": null,
   "id": "73c7b849",
   "metadata": {},
   "outputs": [],
   "source": []
  },
  {
   "cell_type": "code",
   "execution_count": null,
   "id": "de914494",
   "metadata": {},
   "outputs": [],
   "source": []
  }
 ],
 "metadata": {
  "kernelspec": {
   "display_name": "Python 3 (ipykernel)",
   "language": "python",
   "name": "python3"
  },
  "language_info": {
   "codemirror_mode": {
    "name": "ipython",
    "version": 3
   },
   "file_extension": ".py",
   "mimetype": "text/x-python",
   "name": "python",
   "nbconvert_exporter": "python",
   "pygments_lexer": "ipython3",
   "version": "3.9.11"
  }
 },
 "nbformat": 4,
 "nbformat_minor": 5
}
